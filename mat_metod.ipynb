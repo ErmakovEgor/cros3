{
   "cell_type": "markdown",
   "metadata": {},
   "source": [
    "## Матричный метод"
   ]
  },
  {
   "cell_type": "markdown",
   "metadata": {},
   "source": [
    "Рассмотрим систему линейных уравнений:\n",
    "* x-2y+3z-t=6\n",
    "* 2x+3y-4z+4t=-7\n",
    "* 3x+y-2z-2t=9\n",
    "* x-3y+7z+6t=-7"
   ]
  },
  {
   "cell_type": "markdown",
   "metadata": {},
   "source": [
    "Создадим матрицу"
   ]
  },
  {
   "cell_type": "code",
   "execution_count": 162,
   "metadata": {},
   "outputs": [
    {
     "data": {
      "text/plain": [
       "array([[ 1., -2.,  3., -1.],\n",
       "       [ 2.,  3., -4.,  4.],\n",
       "       [ 3.,  1., -2., -2.],\n",
       "       [ 1., -3.,  7.,  6.]])"
      ]
     },
     "execution_count": 162,
     "metadata": {},
     "output_type": "execute_result"
    }
   ],
   "source": [
    "K = np.array([[1., -2., 3., -1.], [2., 3., -4., 4.], [3., 1., -2., -2.], [1., -3., 7., 6.]])\n",
    "K"
   ]
  },
  {
   "cell_type": "markdown",
   "metadata": {},
   "source": [
    "Создадим вектор (правую часть системы)"
   ]
  },
  {
   "cell_type": "code",
   "execution_count": 173,
   "metadata": {},
   "outputs": [
    {
     "data": {
      "text/plain": [
       "array([[ 6.],\n",
       "       [-7.],\n",
       "       [ 9.],\n",
       "       [-7.]])"
      ]
     },
     "execution_count": 173,
     "metadata": {},
     "output_type": "execute_result"
    }
   ],
   "source": [
    "L = np.array([6.,-7., 9., -7.])\n",
    "L = L[:, np.newaxis]\n",
  +  "L"
   ]
  },
  {
   "cell_type": "code",
   "execution_count": 174,
   "metadata": {},
   "outputs": [
    {
     "name": "stdout",
     "output_type": "stream",
     "text": [
      "[[ 2.85714286e-01  1.42857143e-01  1.42857143e-01  7.40148683e-17]\n",
      " [-5.02857143e+00 -2.31428571e+00  2.68571429e+00  1.60000000e+00]\n",
      " [-2.85714286e+00 -1.42857143e+00  1.57142857e+00  1.00000000e+00]\n",
      " [ 7.71428571e-01  4.85714286e-01 -5.14285714e-01 -2.00000000e-01]]\n"
     ]
    }
   ],
   "source": [
    "N = np.linalg.inv(K)\n",
    "print(N)"
   ]
  },
  {
   "cell_type": "markdown",
   "metadata": {},
   "source": [
    "Для решения системы воспользуемся функцией numpy.linalg.solve"
   ]
  },
  {
   "cell_type": "code",
   "execution_count": 175,
   "metadata": {},
   "outputs": [
    {
     "name": "stdout",
     "output_type": "stream",
     "text": [
      "[[ 2.00000000e+00]\n",
      " [-1.00000000e+00]\n",
      " [ 4.93432455e-15]\n",
      " [-2.00000000e+00]]\n"
     ]
    }
   ],
   "source": [
    "A = np.linalg.solve(K, L)\n",
    "print(A)"
   ]
  },
  {
   "cell_type": "code",
   "execution_count": 176,
   "metadata": {},
   "outputs": [
    {
     "data": {
      "text/plain": [
       "array([[ 2.0000000e+00],\n",
       "       [-1.0000000e+00],\n",
       "       [ 4.4408921e-15],\n",
       "       [-2.0000000e+00]])"
      ]
     },
     "execution_count": 176,
     "metadata": {},
     "output_type": "execute_result"
    }
   ],
   "source": [
    "B = (N.dot(L))\n",
    "B"
   ]
  }
